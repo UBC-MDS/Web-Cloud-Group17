{
 "cells": [
  {
   "cell_type": "markdown",
   "id": "d18809c1-649e-4825-8c5f-b6462b06e7fb",
   "metadata": {},
   "source": [
    "# Milestone 1"
   ]
  },
  {
   "cell_type": "markdown",
   "id": "b50191b3-77da-4803-b32c-7eef06f91f62",
   "metadata": {},
   "source": [
    "## Import"
   ]
  },
  {
   "cell_type": "code",
   "execution_count": 1,
   "id": "774b747c-7697-4c49-86e3-5da671893225",
   "metadata": {},
   "outputs": [],
   "source": [
    "import json\n",
    "import os\n",
    "import requests\n",
    "import pandas as pd\n",
    "import zipfile"
   ]
  },
  {
   "cell_type": "markdown",
   "id": "0872e12f-73a8-4f79-843a-f055ed4eadfc",
   "metadata": {},
   "source": [
    "## Download the Data"
   ]
  },
  {
   "cell_type": "markdown",
   "id": "4fae1174-1164-474b-8a0e-8e5556ab0287",
   "metadata": {},
   "source": [
    "### Download from API"
   ]
  },
  {
   "cell_type": "code",
   "execution_count": 3,
   "id": "578887fe-abc2-4744-bfe2-f0501d413ff0",
   "metadata": {},
   "outputs": [],
   "source": [
    "article_id = 14096681\n",
    "url = f\"https://api.figshare.com/v2/articles/{article_id}\"\n",
    "output_dir = \"../data/\""
   ]
  },
  {
   "cell_type": "code",
   "execution_count": 5,
   "id": "8c20a35a-c91a-4c20-80f3-5c6c7777e3fc",
   "metadata": {},
   "outputs": [],
   "source": [
    "resp = requests.get(url)\n",
    "\n",
    "file_list = json.loads(resp.content)['files']"
   ]
  },
  {
   "cell_type": "markdown",
   "id": "9f9c8da5-d80a-42a6-8e78-3d8160e4698f",
   "metadata": {},
   "source": [
    "Note: The cell below takes around 1.5 minutes to run. "
   ]
  },
  {
   "cell_type": "code",
   "execution_count": 7,
   "id": "2cdf5f22-094d-4fa5-9a06-fd4675d36eb6",
   "metadata": {},
   "outputs": [
    {
     "name": "stdout",
     "output_type": "stream",
     "text": [
      "data.zip already exists!\n",
      "Wall time: 1e+03 µs\n"
     ]
    }
   ],
   "source": [
    "%%time\n",
    "if not os.path.exists(output_dir):\n",
    "    os.mkdir(output_dir)\n",
    "    \n",
    "for file in file_list:\n",
    "    if file['name'] != \"data.zip\":\n",
    "        continue\n",
    "    output_name = os.path.join(output_dir, file['name'])\n",
    "    if os.path.exists(output_name):\n",
    "        print(f\"{file['name']} already exists!\")\n",
    "    else:\n",
    "        print(f\"Downloading {file['name']} to {output_dir}...\")\n",
    "        file_resp = requests.get(file['download_url'])\n",
    "        with open(output_name, \"wb\") as f:\n",
    "            for chunk in file_resp.iter_content(chunk_size=1024): \n",
    "                if chunk:\n",
    "                    f.write(chunk)\n",
    "        print(\"Download finished\")"
   ]
  },
  {
   "cell_type": "markdown",
   "id": "59346577-9932-4c56-adf8-eda5397af693",
   "metadata": {},
   "source": [
    "### Unzip data"
   ]
  },
  {
   "cell_type": "code",
   "execution_count": 8,
   "id": "b05693b4-0ca5-4834-a3b0-1a05986f28e9",
   "metadata": {},
   "outputs": [],
   "source": [
    "raw_csv_dir = os.path.join(output_dir, \"raw\")"
   ]
  },
  {
   "cell_type": "code",
   "execution_count": 9,
   "id": "73d5372a-0d9e-4097-b6bd-52a969e19283",
   "metadata": {},
   "outputs": [
    {
     "name": "stdout",
     "output_type": "stream",
     "text": [
      "Wall time: 33.4 s\n"
     ]
    }
   ],
   "source": [
    "%%time\n",
    "with zipfile.ZipFile(output_name, \"r\") as zf:\n",
    "    zf.extractall(raw_csv_dir)"
   ]
  },
  {
   "cell_type": "markdown",
   "id": "9761d338-8d3c-48d6-9504-bb64560614fc",
   "metadata": {},
   "source": [
    "## Combine CSV Files"
   ]
  },
  {
   "cell_type": "code",
   "execution_count": 10,
   "id": "9efe78db-3eff-4cbe-8721-edd92283d863",
   "metadata": {},
   "outputs": [],
   "source": [
    "dir_files = os.listdir(raw_csv_dir)\n",
    "output_df = pd.DataFrame()"
   ]
  },
  {
   "cell_type": "code",
   "execution_count": 18,
   "id": "4f160be3-6313-4a96-b5ea-e0cd716d4664",
   "metadata": {},
   "outputs": [
    {
     "ename": "NameError",
     "evalue": "name 'output_df' is not defined",
     "output_type": "error",
     "traceback": [
      "\u001b[1;31m---------------------------------------------------------------------------\u001b[0m",
      "\u001b[1;31mNameError\u001b[0m                                 Traceback (most recent call last)",
      "\u001b[1;32m<timed exec>\u001b[0m in \u001b[0;36m<module>\u001b[1;34m\u001b[0m\n",
      "\u001b[1;31mNameError\u001b[0m: name 'output_df' is not defined"
     ]
    }
   ],
   "source": [
    "%%time\n",
    "# Exclude MACOSX_ & observed_daily_rainfall_SYD.csv\n",
    "for fname in dir_files:\n",
    "    if fname[-8:] != \"_NSW.csv\":\n",
    "        continue\n",
    "\n",
    "    model_name = fname.split('_')[0]\n",
    "\n",
    "    df = pd.read_csv(os.path.join(raw_csv_dir, fname), index_col=0)\n",
    "    df['model'] = model_name\n",
    "    output_df = pd.concat([output_df, df])\n",
    "    del df\n",
    "\n",
    "output_df.to_csv(os.path.join(output_dir, \"combined.csv\"))"
   ]
  },
  {
   "cell_type": "code",
   "execution_count": 12,
   "id": "3191212b-1734-43ac-8f81-93bbbd499463",
   "metadata": {},
   "outputs": [
    {
     "name": "stdout",
     "output_type": "stream",
     "text": [
      "5.7G\t../data/combined.csv\n"
     ]
    }
   ],
   "source": [
    "%%sh\n",
    "du -sh ../data/combined.csv"
   ]
  },
  {
   "cell_type": "code",
   "execution_count": 13,
   "id": "109c75d1-8ece-4176-bc22-c310ef084da2",
   "metadata": {},
   "outputs": [
    {
     "data": {
      "text/plain": [
       "(62467843, 6)"
      ]
     },
     "execution_count": 13,
     "metadata": {},
     "output_type": "execute_result"
    }
   ],
   "source": [
    "output_df.shape"
   ]
  },
  {
   "cell_type": "code",
   "execution_count": 14,
   "id": "b17e3430-875a-4fd8-89e2-1052488a08c8",
   "metadata": {},
   "outputs": [
    {
     "data": {
      "text/html": [
       "<div>\n",
       "<style scoped>\n",
       "    .dataframe tbody tr th:only-of-type {\n",
       "        vertical-align: middle;\n",
       "    }\n",
       "\n",
       "    .dataframe tbody tr th {\n",
       "        vertical-align: top;\n",
       "    }\n",
       "\n",
       "    .dataframe thead th {\n",
       "        text-align: right;\n",
       "    }\n",
       "</style>\n",
       "<table border=\"1\" class=\"dataframe\">\n",
       "  <thead>\n",
       "    <tr style=\"text-align: right;\">\n",
       "      <th></th>\n",
       "      <th>lat_min</th>\n",
       "      <th>lat_max</th>\n",
       "      <th>lon_min</th>\n",
       "      <th>lon_max</th>\n",
       "      <th>rain (mm/day)</th>\n",
       "      <th>model</th>\n",
       "    </tr>\n",
       "    <tr>\n",
       "      <th>time</th>\n",
       "      <th></th>\n",
       "      <th></th>\n",
       "      <th></th>\n",
       "      <th></th>\n",
       "      <th></th>\n",
       "      <th></th>\n",
       "    </tr>\n",
       "  </thead>\n",
       "  <tbody>\n",
       "    <tr>\n",
       "      <th>1889-01-01 12:00:00</th>\n",
       "      <td>-36.25</td>\n",
       "      <td>-35.0</td>\n",
       "      <td>140.625</td>\n",
       "      <td>142.5</td>\n",
       "      <td>3.293256e-13</td>\n",
       "      <td>ACCESS-CM2</td>\n",
       "    </tr>\n",
       "    <tr>\n",
       "      <th>1889-01-02 12:00:00</th>\n",
       "      <td>-36.25</td>\n",
       "      <td>-35.0</td>\n",
       "      <td>140.625</td>\n",
       "      <td>142.5</td>\n",
       "      <td>0.000000e+00</td>\n",
       "      <td>ACCESS-CM2</td>\n",
       "    </tr>\n",
       "    <tr>\n",
       "      <th>1889-01-03 12:00:00</th>\n",
       "      <td>-36.25</td>\n",
       "      <td>-35.0</td>\n",
       "      <td>140.625</td>\n",
       "      <td>142.5</td>\n",
       "      <td>0.000000e+00</td>\n",
       "      <td>ACCESS-CM2</td>\n",
       "    </tr>\n",
       "    <tr>\n",
       "      <th>1889-01-04 12:00:00</th>\n",
       "      <td>-36.25</td>\n",
       "      <td>-35.0</td>\n",
       "      <td>140.625</td>\n",
       "      <td>142.5</td>\n",
       "      <td>0.000000e+00</td>\n",
       "      <td>ACCESS-CM2</td>\n",
       "    </tr>\n",
       "    <tr>\n",
       "      <th>1889-01-05 12:00:00</th>\n",
       "      <td>-36.25</td>\n",
       "      <td>-35.0</td>\n",
       "      <td>140.625</td>\n",
       "      <td>142.5</td>\n",
       "      <td>1.047658e-02</td>\n",
       "      <td>ACCESS-CM2</td>\n",
       "    </tr>\n",
       "  </tbody>\n",
       "</table>\n",
       "</div>"
      ],
      "text/plain": [
       "                     lat_min  lat_max  lon_min  lon_max  rain (mm/day)  \\\n",
       "time                                                                     \n",
       "1889-01-01 12:00:00   -36.25    -35.0  140.625    142.5   3.293256e-13   \n",
       "1889-01-02 12:00:00   -36.25    -35.0  140.625    142.5   0.000000e+00   \n",
       "1889-01-03 12:00:00   -36.25    -35.0  140.625    142.5   0.000000e+00   \n",
       "1889-01-04 12:00:00   -36.25    -35.0  140.625    142.5   0.000000e+00   \n",
       "1889-01-05 12:00:00   -36.25    -35.0  140.625    142.5   1.047658e-02   \n",
       "\n",
       "                          model  \n",
       "time                             \n",
       "1889-01-01 12:00:00  ACCESS-CM2  \n",
       "1889-01-02 12:00:00  ACCESS-CM2  \n",
       "1889-01-03 12:00:00  ACCESS-CM2  \n",
       "1889-01-04 12:00:00  ACCESS-CM2  \n",
       "1889-01-05 12:00:00  ACCESS-CM2  "
      ]
     },
     "execution_count": 14,
     "metadata": {},
     "output_type": "execute_result"
    }
   ],
   "source": [
    "output_df.head()"
   ]
  },
  {
   "cell_type": "code",
   "execution_count": 15,
   "id": "a692526b-29f7-4199-b9ba-b0da2e28a566",
   "metadata": {},
   "outputs": [],
   "source": [
    "del output_df"
   ]
  },
  {
   "cell_type": "markdown",
   "id": "7f219a42-1ae6-41bd-8f49-df489b4a2b27",
   "metadata": {},
   "source": [
    "### Comparison\n",
    "\n",
    "| Team Member| Operating System | RAM        | Processor                        | Is SSD | CPU Time   | Wall Time |\n",
    "|:----------:|:----------------:|:----------:|:--------------------------------:|:------:|:----------:|:---------:|\n",
    "| James      | Big Sur 11.5     | 8 GB DDR3  | 1.4 GHz Quad-Core Intel Core i5  | Yes    | 7min 54s   | 8min 10s  |\n",
    "| Kyle       |WIndows 11       | 32 GB      | 2.2 GHz Hexa-Core Intel i7-8750H | Yes    |      | 8min 15s  |\n",
    "| LG         |                  |            |                                  |        |            |           |\n",
    "| Philson    | Ubuntu 20.04     | 16 GB DDR4 | 1.8GHz Quad-Core Intel i7-8565U  | Yes    | 6min 39s   | 7min 06s  |\n",
    "\n",
    "**Discussion:**\n",
    "> Placeholder"
   ]
  },
  {
   "cell_type": "markdown",
   "id": "c12acc91-ad71-457c-8e83-1423bc27f049",
   "metadata": {},
   "source": [
    "## Load the Combined CSV and simple EDA"
   ]
  },
  {
   "cell_type": "markdown",
   "id": "00206a56-c48d-43aa-94d2-b9d0a10f7ec8",
   "metadata": {},
   "source": [
    "### Approach 1: Load Only Columns We want"
   ]
  },
  {
   "cell_type": "markdown",
   "id": "1e69fd2b",
   "metadata": {},
   "source": [
    "Let's try `value_counts()` on `model` column. Let's compare how long it takes when we only load in `model` column vs all columns."
   ]
  },
  {
   "cell_type": "code",
   "execution_count": 20,
   "id": "71e1c60d-187e-4bca-a7ec-49dd31bcc6bd",
   "metadata": {},
   "outputs": [
    {
     "name": "stdout",
     "output_type": "stream",
     "text": [
      "MPI-ESM1-2-HR       5154240\n",
      "TaiESM1             3541230\n",
      "NorESM2-MM          3541230\n",
      "CMCC-CM2-HR4        3541230\n",
      "CMCC-CM2-SR5        3541230\n",
      "CMCC-ESM2           3541230\n",
      "SAM0-UNICON         3541153\n",
      "FGOALS-f3-L         3219300\n",
      "GFDL-CM4            3219300\n",
      "GFDL-ESM4           3219300\n",
      "EC-Earth3-Veg-LR    3037320\n",
      "MRI-ESM2-0          3037320\n",
      "BCC-CSM2-MR         3035340\n",
      "MIROC6              2070900\n",
      "ACCESS-CM2          1932840\n",
      "ACCESS-ESM1-5       1610700\n",
      "INM-CM5-0           1609650\n",
      "INM-CM4-8           1609650\n",
      "KIOST-ESM           1287720\n",
      "FGOALS-g3           1287720\n",
      "MPI-ESM1-2-LR        966420\n",
      "NESM3                966420\n",
      "AWI-ESM-1-1-LR       966420\n",
      "MPI-ESM-1-2-HAM      966420\n",
      "NorESM2-LM           919800\n",
      "BCC-ESM1             551880\n",
      "CanESM5              551880\n",
      "Name: model, dtype: int64\n",
      "Wall time: 46.7 s\n"
     ]
    }
   ],
   "source": [
    "%%time\n",
    "use_cols = [\"model\"]\n",
    "df = pd.read_csv(\"../data/combined.csv\", usecols=use_cols)\n",
    "print(df[\"model\"].value_counts())"
   ]
  },
  {
   "cell_type": "code",
   "execution_count": 22,
   "id": "350cb0ff",
   "metadata": {},
   "outputs": [
    {
     "name": "stdout",
     "output_type": "stream",
     "text": [
      "MPI-ESM1-2-HR       5154240\n",
      "TaiESM1             3541230\n",
      "NorESM2-MM          3541230\n",
      "CMCC-CM2-HR4        3541230\n",
      "CMCC-CM2-SR5        3541230\n",
      "CMCC-ESM2           3541230\n",
      "SAM0-UNICON         3541153\n",
      "FGOALS-f3-L         3219300\n",
      "GFDL-CM4            3219300\n",
      "GFDL-ESM4           3219300\n",
      "EC-Earth3-Veg-LR    3037320\n",
      "MRI-ESM2-0          3037320\n",
      "BCC-CSM2-MR         3035340\n",
      "MIROC6              2070900\n",
      "ACCESS-CM2          1932840\n",
      "ACCESS-ESM1-5       1610700\n",
      "INM-CM5-0           1609650\n",
      "INM-CM4-8           1609650\n",
      "KIOST-ESM           1287720\n",
      "FGOALS-g3           1287720\n",
      "MPI-ESM1-2-LR        966420\n",
      "NESM3                966420\n",
      "AWI-ESM-1-1-LR       966420\n",
      "MPI-ESM-1-2-HAM      966420\n",
      "NorESM2-LM           919800\n",
      "BCC-ESM1             551880\n",
      "CanESM5              551880\n",
      "Name: model, dtype: int64\n",
      "Wall time: 1min 14s\n"
     ]
    }
   ],
   "source": [
    "%%time\n",
    "df = pd.read_csv(\"../data/combined.csv\")\n",
    "print(df[\"model\"].value_counts())"
   ]
  },
  {
   "cell_type": "markdown",
   "id": "8b860a0c-533a-4a1a-b972-b74fe2f379b0",
   "metadata": {},
   "source": [
    "#### Comparison - Load Only Columns We Want\n",
    "\n",
    "| Team Member| Operating System | RAM        | Processor        | Is SSD | CPU Time (model)   | Wall Time (model) |  CPU Time (all) | Wall Time (all) |\n",
    "|:----------:|:----------------:|:----------:|:--------------------------------:|:------:|:----------:|:---------:|:--------:|:-------:|\n",
    "| James      | Big Sur 11.5     | 8 GB DDR3  | 1.4 GHz Quad-Core Intel Core i5  | Yes    |            |     |      | \n",
    "| Kyle       | WIndows 11       | 32 GB      | 2.2 GHz Hexa-Core Intel i7-8750H | Yes    |            | 46.5s|     |1min 23s\n",
    "| LG         |                  |            |                                  |        |            |     |      |\n",
    "| Philson    | Ubuntu 20.04     | 16 GB DDR4 | 1.8GHz Quad-Core Intel i7-8565U  | Yes    |            |     |      |\n",
    "\n",
    "**Discussion:**\n",
    "> We can observe that when only `model` column is loaded, there is a significant reduction in Wall Time."
   ]
  },
  {
   "cell_type": "markdown",
   "id": "c02eaa76-eef8-4528-8a88-8ef7dd8a8748",
   "metadata": {},
   "source": [
    "### Approach 2"
   ]
  },
  {
   "cell_type": "code",
   "execution_count": 28,
   "id": "308046b2-a14a-401f-85c0-265861bf7c6f",
   "metadata": {},
   "outputs": [
    {
     "name": "stdout",
     "output_type": "stream",
     "text": [
      "ACCESS-CM2          1932840\n",
      "ACCESS-ESM1-5       1610700\n",
      "AWI-ESM-1-1-LR       966420\n",
      "BCC-CSM2-MR         3035340\n",
      "BCC-ESM1             551880\n",
      "CMCC-CM2-HR4        3541230\n",
      "CMCC-CM2-SR5        3541230\n",
      "CMCC-ESM2           3541230\n",
      "CanESM5              551880\n",
      "EC-Earth3-Veg-LR    3037320\n",
      "FGOALS-f3-L         3219300\n",
      "FGOALS-g3           1287720\n",
      "GFDL-CM4            3219300\n",
      "GFDL-ESM4           3219300\n",
      "INM-CM4-8           1609650\n",
      "INM-CM5-0           1609650\n",
      "KIOST-ESM           1287720\n",
      "MIROC6              2070900\n",
      "MPI-ESM-1-2-HAM      966420\n",
      "MPI-ESM1-2-HR       5154240\n",
      "MPI-ESM1-2-LR        966420\n",
      "MRI-ESM2-0          3037320\n",
      "NESM3                966420\n",
      "NorESM2-LM           919800\n",
      "NorESM2-MM          3541230\n",
      "SAM0-UNICON         3541153\n",
      "TaiESM1             3541230\n",
      "dtype: int32\n",
      "Wall time: 1min 14s\n"
     ]
    }
   ],
   "source": [
    "%%time\n",
    "counts = pd.Series(dtype=int)\n",
    "for chunk in pd.read_csv(\"../data/combined.csv\", chunksize=10_000_000):\n",
    "    counts = counts.add(chunk[\"model\"].value_counts(), fill_value=0)\n",
    "print(counts.astype(int))"
   ]
  },
  {
   "cell_type": "markdown",
   "id": "26f94f27-16d1-4e38-b22a-bf8ffdaec1a9",
   "metadata": {},
   "source": [
    "#### Comparison - Load in Chunk\n",
    "\n",
    "| Team Member| Operating System | RAM        | Processor        | Is SSD | CPU Time (chunk)   | Wall Time (chunk) |  CPU Time (all) | Wall Time (all) |\n",
    "|:----------:|:----------------:|:----------:|:--------------------------------:|:------:|:----------:|:---------:|:--------:|:-------:|\n",
    "| James      | Big Sur 11.5     | 8 GB DDR3  | 1.4 GHz Quad-Core Intel Core i5  | Yes    |            |     |      | \n",
    "| Kyle       | WIndows 11       | 32 GB      | 2.2 GHz Hexa-Core Intel i7-8750H | Yes    |            | 1min 14s|     |1min 23s\n",
    "| LG         |                  |            |                                  |        |            |     |      |\n",
    "| Philson    | Ubuntu 20.04     | 16 GB DDR4 | 1.8GHz Quad-Core Intel i7-8565U  | Yes    |            |     |      |\n",
    "\n",
    "**Discussion:**\n",
    "> We can observe that there is a reasonable reduction in Wall Time when we run `value_counts()` by loading in smaller chunks, 4 million rows each in our case."
   ]
  },
  {
   "cell_type": "markdown",
   "id": "3c413f0b-d3ba-4200-bbc4-3335fc92bbfe",
   "metadata": {},
   "source": [
    "## Simple EDA in R"
   ]
  },
  {
   "cell_type": "markdown",
   "id": "639a6558-f24a-4a38-9ff9-7755966851e9",
   "metadata": {},
   "source": [
    "### Instruction:\n",
    "1. Pick an approach to transfer the dataframe from python to R.\n",
    "- Parquet file\n",
    "- Feather file\n",
    "- Pandas exchange\n",
    "- Arrow exchange\n",
    "2. Discuss why you chose this approach over others."
   ]
  },
  {
   "cell_type": "code",
   "execution_count": 12,
   "id": "64d52a34-a543-4346-9ecf-e7102e28dee1",
   "metadata": {},
   "outputs": [],
   "source": [
    "%load_ext rpy2.ipython"
   ]
  },
  {
   "cell_type": "code",
   "execution_count": 13,
   "id": "153f89dd-79e8-4185-96a0-1246419b53b0",
   "metadata": {},
   "outputs": [
    {
     "name": "stderr",
     "output_type": "stream",
     "text": [
      "R[write to console]: \n",
      "Attaching package: ‘dplyr’\n",
      "\n",
      "\n",
      "R[write to console]: The following objects are masked from ‘package:stats’:\n",
      "\n",
      "    filter, lag\n",
      "\n",
      "\n",
      "R[write to console]: The following objects are masked from ‘package:base’:\n",
      "\n",
      "    intersect, setdiff, setequal, union\n",
      "\n",
      "\n",
      "R[write to console]: \n",
      "Attaching package: ‘arrow’\n",
      "\n",
      "\n",
      "R[write to console]: The following object is masked from ‘package:utils’:\n",
      "\n",
      "    timestamp\n",
      "\n",
      "\n"
     ]
    }
   ],
   "source": [
    "%%R\n",
    "library(dplyr)\n",
    "library(arrow)"
   ]
  },
  {
   "cell_type": "markdown",
   "id": "03ec5962-d274-44a8-b54b-dbade53568b6",
   "metadata": {},
   "source": [
    "### 6.1 Using arrow table and pyra "
   ]
  },
  {
   "cell_type": "code",
   "execution_count": 15,
   "id": "63ed48f1-910f-4d12-bad5-c9f204f01692",
   "metadata": {},
   "outputs": [],
   "source": [
    "import pyarrow.dataset as ds\n",
    "import pyarrow as pa\n",
    "import pandas as pd\n",
    "import pyarrow \n",
    "from pyarrow import csv\n",
    "import rpy2_arrow.pyarrow_rarrow as pyra"
   ]
  },
  {
   "cell_type": "code",
   "execution_count": 16,
   "id": "1e768da0-6af2-451c-954e-9250ca54afe2",
   "metadata": {},
   "outputs": [
    {
     "name": "stdout",
     "output_type": "stream",
     "text": [
      "CPU times: user 20.8 s, sys: 4.3 s, total: 25.1 s\n",
      "Wall time: 23.1 s\n"
     ]
    }
   ],
   "source": [
    "%%time\n",
    "# loading csv file to pyarrow dataset and then converting to pyarrow table\n",
    "dataset = ds.dataset(\"../data/combined.csv\", format=\"csv\")\n",
    "table = dataset.to_table()"
   ]
  },
  {
   "cell_type": "code",
   "execution_count": 17,
   "id": "bc26c5ba-b223-4405-8908-558f55d01a77",
   "metadata": {},
   "outputs": [
    {
     "name": "stdout",
     "output_type": "stream",
     "text": [
      "CPU times: user 30.8 s, sys: 553 ms, total: 31.3 s\n",
      "Wall time: 31.7 s\n"
     ]
    }
   ],
   "source": [
    "%%time\n",
    "# converting pyarrow table to rarrow table\n",
    "r_table = pyra.converter.py2rpy(table)"
   ]
  },
  {
   "cell_type": "code",
   "execution_count": 18,
   "id": "f40a2c1d-06d8-4cfe-a595-57b391df4f20",
   "metadata": {},
   "outputs": [
    {
     "name": "stdout",
     "output_type": "stream",
     "text": [
      "# A tibble: 27 × 2\n",
      "   model                  n\n",
      "   <chr>              <int>\n",
      " 1 ACCESS-CM2       1932840\n",
      " 2 ACCESS-ESM1-5    1610700\n",
      " 3 AWI-ESM-1-1-LR    966420\n",
      " 4 BCC-CSM2-MR      3035340\n",
      " 5 BCC-ESM1          551880\n",
      " 6 CanESM5           551880\n",
      " 7 CMCC-CM2-HR4     3541230\n",
      " 8 CMCC-CM2-SR5     3541230\n",
      " 9 CMCC-ESM2        3541230\n",
      "10 EC-Earth3-Veg-LR 3037320\n",
      "# … with 17 more rows\n",
      "Time difference of 9.245153 secs\n",
      "CPU times: user 5.62 s, sys: 4.89 s, total: 10.5 s\n",
      "Wall time: 9.42 s\n"
     ]
    }
   ],
   "source": [
    "%%time\n",
    "%%R -i r_table\n",
    "# referenced lecture 2 note\n",
    "# performing simple EDA to count the number of each model\n",
    "start_time <- Sys.time()\n",
    "library(dplyr)\n",
    "counts <- r_table %>% collect() %>% count(model)\n",
    "end_time <- Sys.time()\n",
    "\n",
    "print(counts)\n",
    "print(end_time - start_time)"
   ]
  },
  {
   "cell_type": "markdown",
   "id": "8c2d6142-ac68-442c-b9b7-28c5fea85fbd",
   "metadata": {},
   "source": [
    "### 6.2 Using feather"
   ]
  },
  {
   "cell_type": "code",
   "execution_count": 21,
   "id": "cda10640-90c3-466b-af94-5ca5f85a44f6",
   "metadata": {},
   "outputs": [
    {
     "name": "stdout",
     "output_type": "stream",
     "text": [
      "CPU times: user 5.31 s, sys: 16.5 s, total: 21.8 s\n",
      "Wall time: 11.2 s\n"
     ]
    }
   ],
   "source": [
    "%%time\n",
    "# creating feather file from above table\n",
    "import pyarrow.feather as feather\n",
    "feather.write_feather(table, '../data/combined.feather')"
   ]
  },
  {
   "cell_type": "code",
   "execution_count": 25,
   "id": "026584ad-285e-479f-b505-6249a35e84a3",
   "metadata": {},
   "outputs": [
    {
     "name": "stdout",
     "output_type": "stream",
     "text": [
      "CPU times: user 4.77 s, sys: 7.12 s, total: 11.9 s\n",
      "Wall time: 5.06 s\n"
     ]
    }
   ],
   "source": [
    "%%time\n",
    "%%R\n",
    "# transfering the feather file to R\n",
    "r_table_feather <- arrow::read_feather(\"../data/combined.feather\")"
   ]
  },
  {
   "cell_type": "code",
   "execution_count": 27,
   "id": "27cef228-044c-4572-b843-208bec14c964",
   "metadata": {},
   "outputs": [
    {
     "name": "stdout",
     "output_type": "stream",
     "text": [
      "# A tibble: 27 × 2\n",
      "   model                  n\n",
      "   <chr>              <int>\n",
      " 1 ACCESS-CM2       1932840\n",
      " 2 ACCESS-ESM1-5    1610700\n",
      " 3 AWI-ESM-1-1-LR    966420\n",
      " 4 BCC-CSM2-MR      3035340\n",
      " 5 BCC-ESM1          551880\n",
      " 6 CanESM5           551880\n",
      " 7 CMCC-CM2-HR4     3541230\n",
      " 8 CMCC-CM2-SR5     3541230\n",
      " 9 CMCC-ESM2        3541230\n",
      "10 EC-Earth3-Veg-LR 3037320\n",
      "# … with 17 more rows\n",
      "Time difference of 3.866908 secs\n",
      "CPU times: user 1.6 s, sys: 1.67 s, total: 3.27 s\n",
      "Wall time: 3.92 s\n"
     ]
    }
   ],
   "source": [
    "%%time\n",
    "%%R\n",
    "# performing the same EDA as above\n",
    "start_time <- Sys.time()\n",
    "library(dplyr)\n",
    "counts <- r_table_feather %>% collect() %>% count(model)\n",
    "end_time <- Sys.time()\n",
    "\n",
    "print(counts)\n",
    "print(end_time - start_time)"
   ]
  },
  {
   "cell_type": "markdown",
   "id": "056453ab-2a6f-4a53-b7c5-2c8cdbfc11c6",
   "metadata": {},
   "source": [
    "### Discussion\n",
    "- We chose to experiment with Feather with the following reasons:  \n",
    "- According to various sources, Feather is faster than Parquet to read into Arrow Table although not recommended for long-term data storage.\n",
    "- Compared to vanila serialization/deserialization process as performed above, Feather indeed performed much faster.\n",
    "- Using Feather file also saved the storage, as the file generated is only 1.1 GB"
   ]
  },
  {
   "cell_type": "code",
   "execution_count": null,
   "id": "4fa21e0b-4bb7-499e-b08f-c8bbba6ed255",
   "metadata": {},
   "outputs": [],
   "source": []
  }
 ],
 "metadata": {
  "kernelspec": {
   "display_name": "python3_9",
   "language": "python",
   "name": "python3_9"
  },
  "language_info": {
   "codemirror_mode": {
    "name": "ipython",
    "version": 3
   },
   "file_extension": ".py",
   "mimetype": "text/x-python",
   "name": "python",
   "nbconvert_exporter": "python",
   "pygments_lexer": "ipython3",
   "version": "3.7.4"
  }
 },
 "nbformat": 4,
 "nbformat_minor": 5
}
