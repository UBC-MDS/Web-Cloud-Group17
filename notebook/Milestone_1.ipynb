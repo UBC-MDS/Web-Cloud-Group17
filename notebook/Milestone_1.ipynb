{
 "cells": [
  {
   "cell_type": "markdown",
   "id": "d18809c1-649e-4825-8c5f-b6462b06e7fb",
   "metadata": {},
   "source": [
    "# Milestone 1"
   ]
  },
  {
   "cell_type": "markdown",
   "id": "b50191b3-77da-4803-b32c-7eef06f91f62",
   "metadata": {},
   "source": [
    "## Import"
   ]
  },
  {
   "cell_type": "code",
   "execution_count": 1,
   "id": "774b747c-7697-4c49-86e3-5da671893225",
   "metadata": {},
   "outputs": [],
   "source": [
    "import json\n",
    "import os\n",
    "import requests\n",
    "import pandas as pd\n",
    "import zipfile"
   ]
  },
  {
   "cell_type": "markdown",
   "id": "0872e12f-73a8-4f79-843a-f055ed4eadfc",
   "metadata": {},
   "source": [
    "## Download the Data"
   ]
  },
  {
   "cell_type": "markdown",
   "id": "4fae1174-1164-474b-8a0e-8e5556ab0287",
   "metadata": {},
   "source": [
    "### Download from API"
   ]
  },
  {
   "cell_type": "code",
   "execution_count": 2,
   "id": "578887fe-abc2-4744-bfe2-f0501d413ff0",
   "metadata": {},
   "outputs": [],
   "source": [
    "article_id = 14096681\n",
    "url = f\"https://api.figshare.com/v2/articles/{article_id}\"\n",
    "output_dir = \"../data/\""
   ]
  },
  {
   "cell_type": "code",
   "execution_count": 3,
   "id": "8c20a35a-c91a-4c20-80f3-5c6c7777e3fc",
   "metadata": {},
   "outputs": [],
   "source": [
    "resp = requests.get(url)\n",
    "\n",
    "file_list = json.loads(resp.content)['files']"
   ]
  },
  {
   "cell_type": "markdown",
   "id": "9f9c8da5-d80a-42a6-8e78-3d8160e4698f",
   "metadata": {},
   "source": [
    "Note: The cell below takes around 1.5 minutes to run. "
   ]
  },
  {
   "cell_type": "code",
   "execution_count": 4,
   "id": "2cdf5f22-094d-4fa5-9a06-fd4675d36eb6",
   "metadata": {},
   "outputs": [
    {
     "name": "stdout",
     "output_type": "stream",
     "text": [
      "data.zip already exists!\n",
      "CPU times: user 323 µs, sys: 121 µs, total: 444 µs\n",
      "Wall time: 313 µs\n"
     ]
    }
   ],
   "source": [
    "%%time\n",
    "if not os.path.exists(output_dir):\n",
    "    os.mkdir(output_dir)\n",
    "    \n",
    "for file in file_list:\n",
    "    if file['name'] != \"data.zip\":\n",
    "        continue\n",
    "    output_name = os.path.join(output_dir, file['name'])\n",
    "    if os.path.exists(output_name):\n",
    "        print(f\"{file['name']} already exists!\")\n",
    "    else:\n",
    "        print(f\"Downloading {file['name']} to {output_dir}...\")\n",
    "        file_resp = requests.get(file['download_url'])\n",
    "        with open(output_name, \"wb\") as f:\n",
    "            for chunk in file_resp.iter_content(chunk_size=1024): \n",
    "                if chunk:\n",
    "                    f.write(chunk)\n",
    "        print(\"Download finished\")"
   ]
  },
  {
   "cell_type": "markdown",
   "id": "59346577-9932-4c56-adf8-eda5397af693",
   "metadata": {},
   "source": [
    "### Unzip data"
   ]
  },
  {
   "cell_type": "code",
   "execution_count": 5,
   "id": "b05693b4-0ca5-4834-a3b0-1a05986f28e9",
   "metadata": {},
   "outputs": [],
   "source": [
    "raw_csv_dir = os.path.join(output_dir, \"raw\")"
   ]
  },
  {
   "cell_type": "code",
   "execution_count": 6,
   "id": "73d5372a-0d9e-4097-b6bd-52a969e19283",
   "metadata": {},
   "outputs": [
    {
     "name": "stdout",
     "output_type": "stream",
     "text": [
      "CPU times: user 17.4 s, sys: 4.06 s, total: 21.5 s\n",
      "Wall time: 26.2 s\n"
     ]
    }
   ],
   "source": [
    "%%time\n",
    "with zipfile.ZipFile(output_name, \"r\") as zf:\n",
    "    zf.extractall(raw_csv_dir)"
   ]
  },
  {
   "cell_type": "markdown",
   "id": "9761d338-8d3c-48d6-9504-bb64560614fc",
   "metadata": {},
   "source": [
    "## Combine CSV Files"
   ]
  },
  {
   "cell_type": "code",
   "execution_count": 7,
   "id": "9efe78db-3eff-4cbe-8721-edd92283d863",
   "metadata": {},
   "outputs": [],
   "source": [
    "dir_files = os.listdir(raw_csv_dir)\n",
    "output_df = pd.DataFrame()"
   ]
  },
  {
   "cell_type": "code",
   "execution_count": 8,
   "id": "4f160be3-6313-4a96-b5ea-e0cd716d4664",
   "metadata": {},
   "outputs": [
    {
     "name": "stdout",
     "output_type": "stream",
     "text": [
      "CPU times: user 6min 39s, sys: 25.7 s, total: 7min 5s\n",
      "Wall time: 7min 6s\n"
     ]
    }
   ],
   "source": [
    "%%time\n",
    "# Exclude MACOSX_ & observed_daily_rainfall_SYD.csv\n",
    "for fname in dir_files:\n",
    "    if fname[-8:] != \"_NSW.csv\":\n",
    "        continue\n",
    "\n",
    "    model_name = fname.split('_')[0]\n",
    "\n",
    "    df = pd.read_csv(os.path.join(raw_csv_dir, fname), index_col=0)\n",
    "    df['model'] = model_name\n",
    "    output_df = pd.concat([output_df, df])\n",
    "    del df\n",
    "\n",
    "output_df.to_csv(os.path.join(output_dir, \"combined.csv\"))"
   ]
  },
  {
   "cell_type": "code",
   "execution_count": 9,
   "id": "3191212b-1734-43ac-8f81-93bbbd499463",
   "metadata": {},
   "outputs": [
    {
     "name": "stdout",
     "output_type": "stream",
     "text": [
      "5.6G\t../data/combined.csv\n"
     ]
    }
   ],
   "source": [
    "%%sh\n",
    "du -sh ../data/combined.csv"
   ]
  },
  {
   "cell_type": "code",
   "execution_count": 10,
   "id": "109c75d1-8ece-4176-bc22-c310ef084da2",
   "metadata": {},
   "outputs": [
    {
     "data": {
      "text/plain": [
       "(62467843, 6)"
      ]
     },
     "execution_count": 10,
     "metadata": {},
     "output_type": "execute_result"
    }
   ],
   "source": [
    "output_df.shape"
   ]
  },
  {
   "cell_type": "code",
   "execution_count": 11,
   "id": "b17e3430-875a-4fd8-89e2-1052488a08c8",
   "metadata": {},
   "outputs": [
    {
     "data": {
      "text/html": [
       "<div>\n",
       "<style scoped>\n",
       "    .dataframe tbody tr th:only-of-type {\n",
       "        vertical-align: middle;\n",
       "    }\n",
       "\n",
       "    .dataframe tbody tr th {\n",
       "        vertical-align: top;\n",
       "    }\n",
       "\n",
       "    .dataframe thead th {\n",
       "        text-align: right;\n",
       "    }\n",
       "</style>\n",
       "<table border=\"1\" class=\"dataframe\">\n",
       "  <thead>\n",
       "    <tr style=\"text-align: right;\">\n",
       "      <th></th>\n",
       "      <th>lat_min</th>\n",
       "      <th>lat_max</th>\n",
       "      <th>lon_min</th>\n",
       "      <th>lon_max</th>\n",
       "      <th>rain (mm/day)</th>\n",
       "      <th>model</th>\n",
       "    </tr>\n",
       "    <tr>\n",
       "      <th>time</th>\n",
       "      <th></th>\n",
       "      <th></th>\n",
       "      <th></th>\n",
       "      <th></th>\n",
       "      <th></th>\n",
       "      <th></th>\n",
       "    </tr>\n",
       "  </thead>\n",
       "  <tbody>\n",
       "    <tr>\n",
       "      <th>1889-01-01 12:00:00</th>\n",
       "      <td>-35.439867</td>\n",
       "      <td>-33.574619</td>\n",
       "      <td>141.5625</td>\n",
       "      <td>143.4375</td>\n",
       "      <td>3.129635e-02</td>\n",
       "      <td>AWI-ESM-1-1-LR</td>\n",
       "    </tr>\n",
       "    <tr>\n",
       "      <th>1889-01-02 12:00:00</th>\n",
       "      <td>-35.439867</td>\n",
       "      <td>-33.574619</td>\n",
       "      <td>141.5625</td>\n",
       "      <td>143.4375</td>\n",
       "      <td>1.083881e-13</td>\n",
       "      <td>AWI-ESM-1-1-LR</td>\n",
       "    </tr>\n",
       "    <tr>\n",
       "      <th>1889-01-03 12:00:00</th>\n",
       "      <td>-35.439867</td>\n",
       "      <td>-33.574619</td>\n",
       "      <td>141.5625</td>\n",
       "      <td>143.4375</td>\n",
       "      <td>1.056313e-13</td>\n",
       "      <td>AWI-ESM-1-1-LR</td>\n",
       "    </tr>\n",
       "    <tr>\n",
       "      <th>1889-01-04 12:00:00</th>\n",
       "      <td>-35.439867</td>\n",
       "      <td>-33.574619</td>\n",
       "      <td>141.5625</td>\n",
       "      <td>143.4375</td>\n",
       "      <td>1.080510e-13</td>\n",
       "      <td>AWI-ESM-1-1-LR</td>\n",
       "    </tr>\n",
       "    <tr>\n",
       "      <th>1889-01-05 12:00:00</th>\n",
       "      <td>-35.439867</td>\n",
       "      <td>-33.574619</td>\n",
       "      <td>141.5625</td>\n",
       "      <td>143.4375</td>\n",
       "      <td>9.914916e-14</td>\n",
       "      <td>AWI-ESM-1-1-LR</td>\n",
       "    </tr>\n",
       "  </tbody>\n",
       "</table>\n",
       "</div>"
      ],
      "text/plain": [
       "                       lat_min    lat_max   lon_min   lon_max  rain (mm/day)  \\\n",
       "time                                                                           \n",
       "1889-01-01 12:00:00 -35.439867 -33.574619  141.5625  143.4375   3.129635e-02   \n",
       "1889-01-02 12:00:00 -35.439867 -33.574619  141.5625  143.4375   1.083881e-13   \n",
       "1889-01-03 12:00:00 -35.439867 -33.574619  141.5625  143.4375   1.056313e-13   \n",
       "1889-01-04 12:00:00 -35.439867 -33.574619  141.5625  143.4375   1.080510e-13   \n",
       "1889-01-05 12:00:00 -35.439867 -33.574619  141.5625  143.4375   9.914916e-14   \n",
       "\n",
       "                              model  \n",
       "time                                 \n",
       "1889-01-01 12:00:00  AWI-ESM-1-1-LR  \n",
       "1889-01-02 12:00:00  AWI-ESM-1-1-LR  \n",
       "1889-01-03 12:00:00  AWI-ESM-1-1-LR  \n",
       "1889-01-04 12:00:00  AWI-ESM-1-1-LR  \n",
       "1889-01-05 12:00:00  AWI-ESM-1-1-LR  "
      ]
     },
     "execution_count": 11,
     "metadata": {},
     "output_type": "execute_result"
    }
   ],
   "source": [
    "output_df.head()"
   ]
  },
  {
   "cell_type": "code",
   "execution_count": 12,
   "id": "a692526b-29f7-4199-b9ba-b0da2e28a566",
   "metadata": {},
   "outputs": [],
   "source": [
    "del output_df"
   ]
  },
  {
   "cell_type": "markdown",
   "id": "7f219a42-1ae6-41bd-8f49-df489b4a2b27",
   "metadata": {},
   "source": [
    "### Comparison\n",
    "\n",
    "| Team Member| Operating System | RAM        | Processor                        | Is SSD | CPU Time   | Wall Time |\n",
    "|:----------:|:----------------:|:----------:|:--------------------------------:|:------:|:----------:|:---------:|\n",
    "| James      |                  |            |                                  |        |            |           |\n",
    "| Kyle       |                  |            |                                  |        |            |           |\n",
    "| LG         |                  |            |                                  |        |            |           |\n",
    "| Philson    | Ubuntu 20.04     | 16 GB DDR4 | 1.8GHz Quad-Core Intel i7-8565U  | Yes    | 6min 39s   | 7min 06s  |\n",
    "\n",
    "**Discussion:**\n",
    "> Placeholder"
   ]
  },
  {
   "cell_type": "markdown",
   "id": "c12acc91-ad71-457c-8e83-1423bc27f049",
   "metadata": {},
   "source": [
    "## Load the Combined CSV and simple EDA"
   ]
  },
  {
   "cell_type": "markdown",
   "id": "00206a56-c48d-43aa-94d2-b9d0a10f7ec8",
   "metadata": {},
   "source": [
    "### Approach 1"
   ]
  },
  {
   "cell_type": "code",
   "execution_count": null,
   "id": "71e1c60d-187e-4bca-a7ec-49dd31bcc6bd",
   "metadata": {},
   "outputs": [],
   "source": []
  },
  {
   "cell_type": "markdown",
   "id": "8b860a0c-533a-4a1a-b972-b74fe2f379b0",
   "metadata": {},
   "source": [
    "#### Comparison\n",
    "\n",
    "| Team Member| Operating System | RAM        | Processor                        | Is SSD | CPU Time   | Wall Time |\n",
    "|:----------:|:----------------:|:----------:|:--------------------------------:|:------:|:----------:|:---------:|\n",
    "| James      |                  |            |                                  |        |            |           |\n",
    "| Kyle       |                  |            |                                  |        |            |           |\n",
    "| LG         |                  |            |                                  |        |            |           |\n",
    "| Philson    | Ubuntu 20.04     | 16 GB DDR4 | 1.8GHz Quad-Core Intel i7-8565U  | Yes    |            |           |\n",
    "\n",
    "**Discussion:**\n",
    "> Placeholder"
   ]
  },
  {
   "cell_type": "markdown",
   "id": "c02eaa76-eef8-4528-8a88-8ef7dd8a8748",
   "metadata": {},
   "source": [
    "### Approach 2"
   ]
  },
  {
   "cell_type": "code",
   "execution_count": null,
   "id": "308046b2-a14a-401f-85c0-265861bf7c6f",
   "metadata": {},
   "outputs": [],
   "source": []
  },
  {
   "cell_type": "markdown",
   "id": "26f94f27-16d1-4e38-b22a-bf8ffdaec1a9",
   "metadata": {},
   "source": [
    "#### Comparison\n",
    "\n",
    "| Team Member| Operating System | RAM        | Processor                        | Is SSD | CPU Time   | Wall Time |\n",
    "|:----------:|:----------------:|:----------:|:--------------------------------:|:------:|:----------:|:---------:|\n",
    "| James      |                  |            |                                  |        |            |           |\n",
    "| Kyle       |                  |            |                                  |        |            |           |\n",
    "| LG         |                  |            |                                  |        |            |           |\n",
    "| Philson    | Ubuntu 20.04     | 16 GB DDR4 | 1.8GHz Quad-Core Intel i7-8565U  | Yes    |            |           |\n",
    "\n",
    "**Discussion:**\n",
    "> Placeholder"
   ]
  },
  {
   "cell_type": "markdown",
   "id": "3c413f0b-d3ba-4200-bbc4-3335fc92bbfe",
   "metadata": {},
   "source": [
    "## Simple EDA in R"
   ]
  },
  {
   "cell_type": "code",
   "execution_count": null,
   "id": "ce9d6051-2608-452b-b931-548ab5b56dc0",
   "metadata": {},
   "outputs": [],
   "source": []
  }
 ],
 "metadata": {
  "kernelspec": {
   "display_name": "Python [conda env:525]",
   "language": "python",
   "name": "conda-env-525-py"
  },
  "language_info": {
   "codemirror_mode": {
    "name": "ipython",
    "version": 3
   },
   "file_extension": ".py",
   "mimetype": "text/x-python",
   "name": "python",
   "nbconvert_exporter": "python",
   "pygments_lexer": "ipython3",
   "version": "3.8.6"
  }
 },
 "nbformat": 4,
 "nbformat_minor": 5
}
